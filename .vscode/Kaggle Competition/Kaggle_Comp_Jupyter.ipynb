{
 "cells": [
  {
   "cell_type": "code",
   "execution_count": 4,
   "metadata": {},
   "outputs": [],
   "source": [
    "import numpy as np # linear algebra\n",
    "import pandas as pd # data processing, CSV file I/O (e.g. pd.read_csv)\n",
    "import missingno as msno\n",
    "import seaborn as sns\n",
    "import matplotlib.pyplot as plt"
   ]
  },
  {
   "cell_type": "code",
   "execution_count": 8,
   "metadata": {},
   "outputs": [],
   "source": [
    "train = pd.read_csv(\"/run/media/thedossier/CaseFile102/Kaggle Worlds Competition/data/train.csv\", index_col='image_id')\n",
    "test = pd.read_csv(\"/run/media/thedossier/CaseFile102/Kaggle Worlds Competition/data/test.csv\", index_col='image_id')"
   ]
  },
  {
   "cell_type": "markdown",
   "metadata": {},
   "source": [
    "Summarizing the data sets"
   ]
  },
  {
   "cell_type": "code",
   "execution_count": 9,
   "metadata": {},
   "outputs": [
    {
     "data": {
      "text/plain": [
       "(23734, 21)"
      ]
     },
     "execution_count": 9,
     "metadata": {},
     "output_type": "execute_result"
    }
   ],
   "source": [
    "train.shape"
   ]
  },
  {
   "cell_type": "code",
   "execution_count": 10,
   "metadata": {},
   "outputs": [
    {
     "data": {
      "text/plain": [
       "(12780, 20)"
      ]
     },
     "execution_count": 10,
     "metadata": {},
     "output_type": "execute_result"
    }
   ],
   "source": [
    "test.shape"
   ]
  },
  {
   "cell_type": "code",
   "execution_count": 11,
   "metadata": {},
   "outputs": [
    {
     "data": {
      "text/html": [
       "<div>\n",
       "<style scoped>\n",
       "    .dataframe tbody tr th:only-of-type {\n",
       "        vertical-align: middle;\n",
       "    }\n",
       "\n",
       "    .dataframe tbody tr th {\n",
       "        vertical-align: top;\n",
       "    }\n",
       "\n",
       "    .dataframe thead th {\n",
       "        text-align: right;\n",
       "    }\n",
       "</style>\n",
       "<table border=\"1\" class=\"dataframe\">\n",
       "  <thead>\n",
       "    <tr style=\"text-align: right;\">\n",
       "      <th></th>\n",
       "      <th>obs_day</th>\n",
       "      <th>obs_hour</th>\n",
       "      <th>obs_min</th>\n",
       "      <th>obs_sec</th>\n",
       "      <th>image_category</th>\n",
       "      <th>width</th>\n",
       "      <th>height</th>\n",
       "      <th>aspect_ratio</th>\n",
       "      <th>description1</th>\n",
       "      <th>description2</th>\n",
       "      <th>...</th>\n",
       "      <th>camera_model</th>\n",
       "      <th>iso</th>\n",
       "      <th>aperture_value</th>\n",
       "      <th>focal_length</th>\n",
       "      <th>exposure_time</th>\n",
       "      <th>latitude</th>\n",
       "      <th>longitude</th>\n",
       "      <th>country</th>\n",
       "      <th>city</th>\n",
       "      <th>avg_views/day</th>\n",
       "    </tr>\n",
       "    <tr>\n",
       "      <th>image_id</th>\n",
       "      <th></th>\n",
       "      <th></th>\n",
       "      <th></th>\n",
       "      <th></th>\n",
       "      <th></th>\n",
       "      <th></th>\n",
       "      <th></th>\n",
       "      <th></th>\n",
       "      <th></th>\n",
       "      <th></th>\n",
       "      <th></th>\n",
       "      <th></th>\n",
       "      <th></th>\n",
       "      <th></th>\n",
       "      <th></th>\n",
       "      <th></th>\n",
       "      <th></th>\n",
       "      <th></th>\n",
       "      <th></th>\n",
       "      <th></th>\n",
       "      <th></th>\n",
       "    </tr>\n",
       "  </thead>\n",
       "  <tbody>\n",
       "    <tr>\n",
       "      <th>ed821aabad928878a4b54d2ee3f698f5</th>\n",
       "      <td>Friday</td>\n",
       "      <td>1</td>\n",
       "      <td>32</td>\n",
       "      <td>52</td>\n",
       "      <td>Featured</td>\n",
       "      <td>3024</td>\n",
       "      <td>4032</td>\n",
       "      <td>0.75</td>\n",
       "      <td>A single bluebonnet on a light blue book.</td>\n",
       "      <td>blue and white floral wall decor</td>\n",
       "      <td>...</td>\n",
       "      <td>Pixel 3</td>\n",
       "      <td>85.0</td>\n",
       "      <td>1.8</td>\n",
       "      <td>4.4</td>\n",
       "      <td>1/40</td>\n",
       "      <td>31.968599</td>\n",
       "      <td>-99.901813</td>\n",
       "      <td>United States</td>\n",
       "      <td>NaN</td>\n",
       "      <td>1589.956098</td>\n",
       "    </tr>\n",
       "    <tr>\n",
       "      <th>fbef0735de5a2c1667c35cb46af89da6</th>\n",
       "      <td>Tuesday</td>\n",
       "      <td>10</td>\n",
       "      <td>30</td>\n",
       "      <td>21</td>\n",
       "      <td>Featured</td>\n",
       "      <td>5206</td>\n",
       "      <td>7809</td>\n",
       "      <td>0.67</td>\n",
       "      <td>NaN</td>\n",
       "      <td>green grass and green trees</td>\n",
       "      <td>...</td>\n",
       "      <td>NIKON Z 7</td>\n",
       "      <td>100.0</td>\n",
       "      <td>2.0</td>\n",
       "      <td>85.0</td>\n",
       "      <td>1/400</td>\n",
       "      <td>NaN</td>\n",
       "      <td>NaN</td>\n",
       "      <td>NaN</td>\n",
       "      <td>NaN</td>\n",
       "      <td>675.022971</td>\n",
       "    </tr>\n",
       "    <tr>\n",
       "      <th>510537f34a369eec9752e4fc3a5f8e9d</th>\n",
       "      <td>Sunday</td>\n",
       "      <td>11</td>\n",
       "      <td>3</td>\n",
       "      <td>40</td>\n",
       "      <td>Not Featured</td>\n",
       "      <td>5974</td>\n",
       "      <td>3983</td>\n",
       "      <td>1.50</td>\n",
       "      <td>Car show with objects in the background</td>\n",
       "      <td>NaN</td>\n",
       "      <td>...</td>\n",
       "      <td>NIKON D5500</td>\n",
       "      <td>2500.0</td>\n",
       "      <td>5.6</td>\n",
       "      <td>55.0</td>\n",
       "      <td>1/60</td>\n",
       "      <td>41.385064</td>\n",
       "      <td>2.173404</td>\n",
       "      <td>Espanha</td>\n",
       "      <td>Barcelona</td>\n",
       "      <td>1.603883</td>\n",
       "    </tr>\n",
       "    <tr>\n",
       "      <th>31b8acfa73101a2b24ae7cb8d5d5be5c</th>\n",
       "      <td>Friday</td>\n",
       "      <td>16</td>\n",
       "      <td>32</td>\n",
       "      <td>19</td>\n",
       "      <td>Featured</td>\n",
       "      <td>3382</td>\n",
       "      <td>2673</td>\n",
       "      <td>1.27</td>\n",
       "      <td>Red-eyed Tree Frog</td>\n",
       "      <td>green Frog</td>\n",
       "      <td>...</td>\n",
       "      <td>Canon EOS 5D Mark IV</td>\n",
       "      <td>1600.0</td>\n",
       "      <td>6.3</td>\n",
       "      <td>100.0</td>\n",
       "      <td>1/160</td>\n",
       "      <td>NaN</td>\n",
       "      <td>NaN</td>\n",
       "      <td>Costa Rica</td>\n",
       "      <td>NaN</td>\n",
       "      <td>2792.638863</td>\n",
       "    </tr>\n",
       "    <tr>\n",
       "      <th>46a303018f38d9f0ea7afddca5e09eaf</th>\n",
       "      <td>Monday</td>\n",
       "      <td>3</td>\n",
       "      <td>6</td>\n",
       "      <td>24</td>\n",
       "      <td>Featured</td>\n",
       "      <td>5340</td>\n",
       "      <td>3560</td>\n",
       "      <td>1.50</td>\n",
       "      <td>NaN</td>\n",
       "      <td>top view of white clouds during daytime</td>\n",
       "      <td>...</td>\n",
       "      <td>Canon EOS 5D Mark III</td>\n",
       "      <td>100.0</td>\n",
       "      <td>16.0</td>\n",
       "      <td>105.0</td>\n",
       "      <td>1/125</td>\n",
       "      <td>NaN</td>\n",
       "      <td>NaN</td>\n",
       "      <td>NaN</td>\n",
       "      <td>NaN</td>\n",
       "      <td>1057.189873</td>\n",
       "    </tr>\n",
       "  </tbody>\n",
       "</table>\n",
       "<p>5 rows × 21 columns</p>\n",
       "</div>"
      ],
      "text/plain": [
       "                                  obs_day  obs_hour  obs_min  obs_sec  \\\n",
       "image_id                                                                \n",
       "ed821aabad928878a4b54d2ee3f698f5   Friday         1       32       52   \n",
       "fbef0735de5a2c1667c35cb46af89da6  Tuesday        10       30       21   \n",
       "510537f34a369eec9752e4fc3a5f8e9d   Sunday        11        3       40   \n",
       "31b8acfa73101a2b24ae7cb8d5d5be5c   Friday        16       32       19   \n",
       "46a303018f38d9f0ea7afddca5e09eaf   Monday         3        6       24   \n",
       "\n",
       "                                 image_category  width  height  aspect_ratio  \\\n",
       "image_id                                                                       \n",
       "ed821aabad928878a4b54d2ee3f698f5       Featured   3024    4032          0.75   \n",
       "fbef0735de5a2c1667c35cb46af89da6       Featured   5206    7809          0.67   \n",
       "510537f34a369eec9752e4fc3a5f8e9d   Not Featured   5974    3983          1.50   \n",
       "31b8acfa73101a2b24ae7cb8d5d5be5c       Featured   3382    2673          1.27   \n",
       "46a303018f38d9f0ea7afddca5e09eaf       Featured   5340    3560          1.50   \n",
       "\n",
       "                                                               description1  \\\n",
       "image_id                                                                      \n",
       "ed821aabad928878a4b54d2ee3f698f5  A single bluebonnet on a light blue book.   \n",
       "fbef0735de5a2c1667c35cb46af89da6                                        NaN   \n",
       "510537f34a369eec9752e4fc3a5f8e9d    Car show with objects in the background   \n",
       "31b8acfa73101a2b24ae7cb8d5d5be5c                         Red-eyed Tree Frog   \n",
       "46a303018f38d9f0ea7afddca5e09eaf                                        NaN   \n",
       "\n",
       "                                                             description2  \\\n",
       "image_id                                                                    \n",
       "ed821aabad928878a4b54d2ee3f698f5         blue and white floral wall decor   \n",
       "fbef0735de5a2c1667c35cb46af89da6              green grass and green trees   \n",
       "510537f34a369eec9752e4fc3a5f8e9d                                      NaN   \n",
       "31b8acfa73101a2b24ae7cb8d5d5be5c                               green Frog   \n",
       "46a303018f38d9f0ea7afddca5e09eaf  top view of white clouds during daytime   \n",
       "\n",
       "                                  ...           camera_model     iso  \\\n",
       "image_id                          ...                                  \n",
       "ed821aabad928878a4b54d2ee3f698f5  ...                Pixel 3    85.0   \n",
       "fbef0735de5a2c1667c35cb46af89da6  ...              NIKON Z 7   100.0   \n",
       "510537f34a369eec9752e4fc3a5f8e9d  ...            NIKON D5500  2500.0   \n",
       "31b8acfa73101a2b24ae7cb8d5d5be5c  ...   Canon EOS 5D Mark IV  1600.0   \n",
       "46a303018f38d9f0ea7afddca5e09eaf  ...  Canon EOS 5D Mark III   100.0   \n",
       "\n",
       "                                  aperture_value  focal_length  exposure_time  \\\n",
       "image_id                                                                        \n",
       "ed821aabad928878a4b54d2ee3f698f5             1.8           4.4           1/40   \n",
       "fbef0735de5a2c1667c35cb46af89da6             2.0          85.0          1/400   \n",
       "510537f34a369eec9752e4fc3a5f8e9d             5.6          55.0           1/60   \n",
       "31b8acfa73101a2b24ae7cb8d5d5be5c             6.3         100.0          1/160   \n",
       "46a303018f38d9f0ea7afddca5e09eaf            16.0         105.0          1/125   \n",
       "\n",
       "                                   latitude  longitude        country  \\\n",
       "image_id                                                                \n",
       "ed821aabad928878a4b54d2ee3f698f5  31.968599 -99.901813  United States   \n",
       "fbef0735de5a2c1667c35cb46af89da6        NaN        NaN            NaN   \n",
       "510537f34a369eec9752e4fc3a5f8e9d  41.385064   2.173404        Espanha   \n",
       "31b8acfa73101a2b24ae7cb8d5d5be5c        NaN        NaN     Costa Rica   \n",
       "46a303018f38d9f0ea7afddca5e09eaf        NaN        NaN            NaN   \n",
       "\n",
       "                                       city avg_views/day  \n",
       "image_id                                                   \n",
       "ed821aabad928878a4b54d2ee3f698f5        NaN   1589.956098  \n",
       "fbef0735de5a2c1667c35cb46af89da6        NaN    675.022971  \n",
       "510537f34a369eec9752e4fc3a5f8e9d  Barcelona      1.603883  \n",
       "31b8acfa73101a2b24ae7cb8d5d5be5c        NaN   2792.638863  \n",
       "46a303018f38d9f0ea7afddca5e09eaf        NaN   1057.189873  \n",
       "\n",
       "[5 rows x 21 columns]"
      ]
     },
     "execution_count": 11,
     "metadata": {},
     "output_type": "execute_result"
    }
   ],
   "source": [
    "train.head()"
   ]
  },
  {
   "cell_type": "code",
   "execution_count": 15,
   "metadata": {},
   "outputs": [
    {
     "data": {
      "text/html": [
       "<style type=\"text/css\">\n",
       "#T_37164_row0_col0, #T_37164_row1_col0, #T_37164_row2_col0, #T_37164_row3_col0, #T_37164_row3_col3, #T_37164_row3_col4, #T_37164_row3_col5, #T_37164_row3_col6, #T_37164_row4_col0, #T_37164_row5_col0, #T_37164_row6_col0, #T_37164_row7_col0, #T_37164_row8_col2 {\n",
       "  background-color: #084081;\n",
       "  color: #f1f1f1;\n",
       "}\n",
       "#T_37164_row0_col1 {\n",
       "  background-color: #f6fcef;\n",
       "  color: #000000;\n",
       "  width: 10em;\n",
       "  background: linear-gradient(90deg, transparent 0.2%, green 0.2%, green 0.5%, transparent 0.5%);\n",
       "}\n",
       "#T_37164_row0_col2, #T_37164_row1_col5, #T_37164_row2_col5, #T_37164_row10_col6 {\n",
       "  background-color: #f6fcef;\n",
       "  color: #000000;\n",
       "}\n",
       "#T_37164_row0_col3, #T_37164_row1_col3, #T_37164_row2_col3, #T_37164_row5_col3, #T_37164_row6_col3, #T_37164_row7_col3, #T_37164_row8_col3 {\n",
       "  background-color: #e3f4de;\n",
       "  color: #000000;\n",
       "}\n",
       "#T_37164_row0_col4, #T_37164_row1_col4, #T_37164_row2_col4 {\n",
       "  background-color: #f3faec;\n",
       "  color: #000000;\n",
       "}\n",
       "#T_37164_row0_col5, #T_37164_row0_col6, #T_37164_row5_col2, #T_37164_row5_col5, #T_37164_row5_col6, #T_37164_row7_col2, #T_37164_row7_col5, #T_37164_row7_col6, #T_37164_row9_col0, #T_37164_row10_col0, #T_37164_row10_col3, #T_37164_row10_col4, #T_37164_row10_col5 {\n",
       "  background-color: #f7fcf0;\n",
       "  color: #000000;\n",
       "}\n",
       "#T_37164_row0_col7, #T_37164_row5_col7 {\n",
       "  background-color: #f7fcf0;\n",
       "  color: #000000;\n",
       "  width: 10em;\n",
       "  background: linear-gradient(90deg, red 0.0%, transparent 0.0%);\n",
       "}\n",
       "#T_37164_row1_col1, #T_37164_row2_col1 {\n",
       "  background-color: #f6fbef;\n",
       "  color: #000000;\n",
       "  width: 10em;\n",
       "  background: linear-gradient(90deg, transparent 0.2%, green 0.2%, green 0.8%, transparent 0.8%);\n",
       "}\n",
       "#T_37164_row1_col2 {\n",
       "  background-color: #f5fbee;\n",
       "  color: #000000;\n",
       "}\n",
       "#T_37164_row1_col6, #T_37164_row2_col2, #T_37164_row2_col6, #T_37164_row6_col5, #T_37164_row6_col6, #T_37164_row9_col5, #T_37164_row9_col6 {\n",
       "  background-color: #f6fbef;\n",
       "  color: #000000;\n",
       "}\n",
       "#T_37164_row1_col7, #T_37164_row2_col7, #T_37164_row9_col7 {\n",
       "  background-color: #f7fcf0;\n",
       "  color: #000000;\n",
       "  width: 10em;\n",
       "  background: linear-gradient(90deg, red 0.1%, transparent 0.1%);\n",
       "}\n",
       "#T_37164_row3_col1 {\n",
       "  background-color: #084081;\n",
       "  color: #f1f1f1;\n",
       "  width: 10em;\n",
       "  background: linear-gradient(90deg, transparent 0.2%, green 0.2%, green 100.0%, transparent 100.0%);\n",
       "}\n",
       "#T_37164_row3_col2 {\n",
       "  background-color: #085a9d;\n",
       "  color: #f1f1f1;\n",
       "}\n",
       "#T_37164_row3_col7 {\n",
       "  background-color: #c3e7c1;\n",
       "  color: #000000;\n",
       "  width: 10em;\n",
       "  background: linear-gradient(90deg, red 28.3%, transparent 28.3%);\n",
       "}\n",
       "#T_37164_row4_col1 {\n",
       "  background-color: #085799;\n",
       "  color: #f1f1f1;\n",
       "  width: 10em;\n",
       "  background: linear-gradient(90deg, transparent 0.2%, green 0.2%, green 92.6%, transparent 92.6%);\n",
       "}\n",
       "#T_37164_row4_col2 {\n",
       "  background-color: #0862a5;\n",
       "  color: #f1f1f1;\n",
       "}\n",
       "#T_37164_row4_col3 {\n",
       "  background-color: #47abcf;\n",
       "  color: #f1f1f1;\n",
       "}\n",
       "#T_37164_row4_col4 {\n",
       "  background-color: #085799;\n",
       "  color: #f1f1f1;\n",
       "}\n",
       "#T_37164_row4_col5 {\n",
       "  background-color: #084688;\n",
       "  color: #f1f1f1;\n",
       "}\n",
       "#T_37164_row4_col6 {\n",
       "  background-color: #085da0;\n",
       "  color: #f1f1f1;\n",
       "}\n",
       "#T_37164_row4_col7 {\n",
       "  background-color: #d1edcb;\n",
       "  color: #000000;\n",
       "  width: 10em;\n",
       "  background: linear-gradient(90deg, red 21.6%, transparent 21.6%);\n",
       "}\n",
       "#T_37164_row5_col1 {\n",
       "  background-color: #f7fcf0;\n",
       "  color: #000000;\n",
       "  width: 10em;\n",
       "  background: linear-gradient(90deg, transparent 0.2%, green 0.2%, green 0.2%, transparent 0.2%);\n",
       "}\n",
       "#T_37164_row5_col4, #T_37164_row7_col4 {\n",
       "  background-color: #f3fbed;\n",
       "  color: #000000;\n",
       "}\n",
       "#T_37164_row6_col1 {\n",
       "  background-color: #f5fbee;\n",
       "  color: #000000;\n",
       "  width: 10em;\n",
       "  background: linear-gradient(90deg, transparent 0.2%, green 0.2%, green 1.5%, transparent 1.5%);\n",
       "}\n",
       "#T_37164_row6_col2 {\n",
       "  background-color: #edf8e7;\n",
       "  color: #000000;\n",
       "}\n",
       "#T_37164_row6_col4, #T_37164_row9_col4 {\n",
       "  background-color: #f2faeb;\n",
       "  color: #000000;\n",
       "}\n",
       "#T_37164_row6_col7 {\n",
       "  background-color: #f2faeb;\n",
       "  color: #000000;\n",
       "  width: 10em;\n",
       "  background: linear-gradient(90deg, red 3.1%, transparent 3.1%);\n",
       "}\n",
       "#T_37164_row7_col1 {\n",
       "  background-color: #f7fcf0;\n",
       "  color: #000000;\n",
       "  width: 10em;\n",
       "  background: linear-gradient(90deg, transparent 0.2%, green 0.2%, green 0.3%, transparent 0.3%);\n",
       "}\n",
       "#T_37164_row7_col7 {\n",
       "  background-color: #f7fcf0;\n",
       "  color: #000000;\n",
       "  width: 10em;\n",
       "  background: linear-gradient(90deg, red 0.2%, transparent 0.2%);\n",
       "}\n",
       "#T_37164_row8_col0 {\n",
       "  background-color: #084182;\n",
       "  color: #f1f1f1;\n",
       "}\n",
       "#T_37164_row8_col1 {\n",
       "  background-color: #e1f3dc;\n",
       "  color: #000000;\n",
       "  width: 10em;\n",
       "  background: linear-gradient(90deg, transparent 0.2%, green 0.2%, green 12.3%, transparent 12.3%);\n",
       "}\n",
       "#T_37164_row8_col4, #T_37164_row9_col3, #T_37164_row10_col2 {\n",
       "  background-color: #eef8e7;\n",
       "  color: #000000;\n",
       "}\n",
       "#T_37164_row8_col5 {\n",
       "  background-color: #f0f9e9;\n",
       "  color: #000000;\n",
       "}\n",
       "#T_37164_row8_col6 {\n",
       "  background-color: #eaf7e4;\n",
       "  color: #000000;\n",
       "}\n",
       "#T_37164_row8_col7 {\n",
       "  background-color: #084081;\n",
       "  color: #f1f1f1;\n",
       "  width: 10em;\n",
       "  background: linear-gradient(90deg, red 100.0%, transparent 100.0%);\n",
       "}\n",
       "#T_37164_row9_col1 {\n",
       "  background-color: #f6fbef;\n",
       "  color: #000000;\n",
       "  width: 10em;\n",
       "  background: linear-gradient(90deg, transparent 0.2%, green 0.2%, green 0.9%, transparent 0.9%);\n",
       "}\n",
       "#T_37164_row9_col2 {\n",
       "  background-color: #f4fbed;\n",
       "  color: #000000;\n",
       "}\n",
       "#T_37164_row10_col1 {\n",
       "  background-color: #f7fcf0;\n",
       "  color: #000000;\n",
       "  width: 10em;\n",
       "  background: linear-gradient(90deg, green 0.2%, transparent 0.2%);\n",
       "}\n",
       "#T_37164_row10_col7 {\n",
       "  background-color: #f7fcf0;\n",
       "  color: #000000;\n",
       "  width: 10em;\n",
       "  background: linear-gradient(90deg, red 0.3%, transparent 0.3%);\n",
       "}\n",
       "</style>\n",
       "<table id=\"T_37164\">\n",
       "  <thead>\n",
       "    <tr>\n",
       "      <th class=\"blank level0\" >&nbsp;</th>\n",
       "      <th id=\"T_37164_level0_col0\" class=\"col_heading level0 col0\" >count</th>\n",
       "      <th id=\"T_37164_level0_col1\" class=\"col_heading level0 col1\" >mean</th>\n",
       "      <th id=\"T_37164_level0_col2\" class=\"col_heading level0 col2\" >std</th>\n",
       "      <th id=\"T_37164_level0_col3\" class=\"col_heading level0 col3\" >min</th>\n",
       "      <th id=\"T_37164_level0_col4\" class=\"col_heading level0 col4\" >25%</th>\n",
       "      <th id=\"T_37164_level0_col5\" class=\"col_heading level0 col5\" >50%</th>\n",
       "      <th id=\"T_37164_level0_col6\" class=\"col_heading level0 col6\" >75%</th>\n",
       "      <th id=\"T_37164_level0_col7\" class=\"col_heading level0 col7\" >max</th>\n",
       "    </tr>\n",
       "  </thead>\n",
       "  <tbody>\n",
       "    <tr>\n",
       "      <th id=\"T_37164_level0_row0\" class=\"row_heading level0 row0\" >obs_hour</th>\n",
       "      <td id=\"T_37164_row0_col0\" class=\"data row0 col0\" >23734.000000</td>\n",
       "      <td id=\"T_37164_row0_col1\" class=\"data row0 col1\" >12.600994</td>\n",
       "      <td id=\"T_37164_row0_col2\" class=\"data row0 col2\" >6.547164</td>\n",
       "      <td id=\"T_37164_row0_col3\" class=\"data row0 col3\" >0.000000</td>\n",
       "      <td id=\"T_37164_row0_col4\" class=\"data row0 col4\" >7.000000</td>\n",
       "      <td id=\"T_37164_row0_col5\" class=\"data row0 col5\" >13.000000</td>\n",
       "      <td id=\"T_37164_row0_col6\" class=\"data row0 col6\" >18.000000</td>\n",
       "      <td id=\"T_37164_row0_col7\" class=\"data row0 col7\" >23.000000</td>\n",
       "    </tr>\n",
       "    <tr>\n",
       "      <th id=\"T_37164_level0_row1\" class=\"row_heading level0 row1\" >obs_min</th>\n",
       "      <td id=\"T_37164_row1_col0\" class=\"data row1 col0\" >23734.000000</td>\n",
       "      <td id=\"T_37164_row1_col1\" class=\"data row1 col1\" >29.598171</td>\n",
       "      <td id=\"T_37164_row1_col2\" class=\"data row1 col2\" >17.435887</td>\n",
       "      <td id=\"T_37164_row1_col3\" class=\"data row1 col3\" >0.000000</td>\n",
       "      <td id=\"T_37164_row1_col4\" class=\"data row1 col4\" >14.000000</td>\n",
       "      <td id=\"T_37164_row1_col5\" class=\"data row1 col5\" >30.000000</td>\n",
       "      <td id=\"T_37164_row1_col6\" class=\"data row1 col6\" >45.000000</td>\n",
       "      <td id=\"T_37164_row1_col7\" class=\"data row1 col7\" >59.000000</td>\n",
       "    </tr>\n",
       "    <tr>\n",
       "      <th id=\"T_37164_level0_row2\" class=\"row_heading level0 row2\" >obs_sec</th>\n",
       "      <td id=\"T_37164_row2_col0\" class=\"data row2 col0\" >23734.000000</td>\n",
       "      <td id=\"T_37164_row2_col1\" class=\"data row2 col1\" >29.497935</td>\n",
       "      <td id=\"T_37164_row2_col2\" class=\"data row2 col2\" >17.244145</td>\n",
       "      <td id=\"T_37164_row2_col3\" class=\"data row2 col3\" >0.000000</td>\n",
       "      <td id=\"T_37164_row2_col4\" class=\"data row2 col4\" >15.000000</td>\n",
       "      <td id=\"T_37164_row2_col5\" class=\"data row2 col5\" >29.000000</td>\n",
       "      <td id=\"T_37164_row2_col6\" class=\"data row2 col6\" >44.000000</td>\n",
       "      <td id=\"T_37164_row2_col7\" class=\"data row2 col7\" >59.000000</td>\n",
       "    </tr>\n",
       "    <tr>\n",
       "      <th id=\"T_37164_level0_row3\" class=\"row_heading level0 row3\" >width</th>\n",
       "      <td id=\"T_37164_row3_col0\" class=\"data row3 col0\" >23734.000000</td>\n",
       "      <td id=\"T_37164_row3_col1\" class=\"data row3 col1\" >4402.432502</td>\n",
       "      <td id=\"T_37164_row3_col2\" class=\"data row3 col2\" >1322.279580</td>\n",
       "      <td id=\"T_37164_row3_col3\" class=\"data row3 col3\" >1275.000000</td>\n",
       "      <td id=\"T_37164_row3_col4\" class=\"data row3 col4\" >3456.000000</td>\n",
       "      <td id=\"T_37164_row3_col5\" class=\"data row3 col5\" >4032.000000</td>\n",
       "      <td id=\"T_37164_row3_col6\" class=\"data row3 col6\" >5416.000000</td>\n",
       "      <td id=\"T_37164_row3_col7\" class=\"data row3 col7\" >18559.000000</td>\n",
       "    </tr>\n",
       "    <tr>\n",
       "      <th id=\"T_37164_level0_row4\" class=\"row_heading level0 row4\" >height</th>\n",
       "      <td id=\"T_37164_row4_col0\" class=\"data row4 col0\" >23734.000000</td>\n",
       "      <td id=\"T_37164_row4_col1\" class=\"data row4 col1\" >4077.611191</td>\n",
       "      <td id=\"T_37164_row4_col2\" class=\"data row4 col2\" >1287.402035</td>\n",
       "      <td id=\"T_37164_row4_col3\" class=\"data row4 col3\" >774.000000</td>\n",
       "      <td id=\"T_37164_row4_col4\" class=\"data row4 col4\" >3200.000000</td>\n",
       "      <td id=\"T_37164_row4_col5\" class=\"data row4 col5\" >3948.500000</td>\n",
       "      <td id=\"T_37164_row4_col6\" class=\"data row4 col6\" >4928.000000</td>\n",
       "      <td id=\"T_37164_row4_col7\" class=\"data row4 col7\" >14162.000000</td>\n",
       "    </tr>\n",
       "    <tr>\n",
       "      <th id=\"T_37164_level0_row5\" class=\"row_heading level0 row5\" >aspect_ratio</th>\n",
       "      <td id=\"T_37164_row5_col0\" class=\"data row5 col0\" >23734.000000</td>\n",
       "      <td id=\"T_37164_row5_col1\" class=\"data row5 col1\" >1.165886</td>\n",
       "      <td id=\"T_37164_row5_col2\" class=\"data row5 col2\" >0.419159</td>\n",
       "      <td id=\"T_37164_row5_col3\" class=\"data row5 col3\" >0.340000</td>\n",
       "      <td id=\"T_37164_row5_col4\" class=\"data row5 col4\" >0.670000</td>\n",
       "      <td id=\"T_37164_row5_col5\" class=\"data row5 col5\" >1.330000</td>\n",
       "      <td id=\"T_37164_row5_col6\" class=\"data row5 col6\" >1.500000</td>\n",
       "      <td id=\"T_37164_row5_col7\" class=\"data row5 col7\" >5.900000</td>\n",
       "    </tr>\n",
       "    <tr>\n",
       "      <th id=\"T_37164_level0_row6\" class=\"row_heading level0 row6\" >focal_length</th>\n",
       "      <td id=\"T_37164_row6_col0\" class=\"data row6 col0\" >23734.000000</td>\n",
       "      <td id=\"T_37164_row6_col1\" class=\"data row6 col1\" >58.301827</td>\n",
       "      <td id=\"T_37164_row6_col2\" class=\"data row6 col2\" >83.035507</td>\n",
       "      <td id=\"T_37164_row6_col3\" class=\"data row6 col3\" >0.000000</td>\n",
       "      <td id=\"T_37164_row6_col4\" class=\"data row6 col4\" >18.000000</td>\n",
       "      <td id=\"T_37164_row6_col5\" class=\"data row6 col5\" >35.000000</td>\n",
       "      <td id=\"T_37164_row6_col6\" class=\"data row6 col6\" >56.000000</td>\n",
       "      <td id=\"T_37164_row6_col7\" class=\"data row6 col7\" >2032.000000</td>\n",
       "    </tr>\n",
       "    <tr>\n",
       "      <th id=\"T_37164_level0_row7\" class=\"row_heading level0 row7\" >aperture_value</th>\n",
       "      <td id=\"T_37164_row7_col0\" class=\"data row7 col0\" >23722.000000</td>\n",
       "      <td id=\"T_37164_row7_col1\" class=\"data row7 col1\" >4.799294</td>\n",
       "      <td id=\"T_37164_row7_col2\" class=\"data row7 col2\" >3.810591</td>\n",
       "      <td id=\"T_37164_row7_col3\" class=\"data row7 col3\" >0.000000</td>\n",
       "      <td id=\"T_37164_row7_col4\" class=\"data row7 col4\" >2.200000</td>\n",
       "      <td id=\"T_37164_row7_col5\" class=\"data row7 col5\" >4.000000</td>\n",
       "      <td id=\"T_37164_row7_col6\" class=\"data row7 col6\" >5.600000</td>\n",
       "      <td id=\"T_37164_row7_col7\" class=\"data row7 col7\" >100.000000</td>\n",
       "    </tr>\n",
       "    <tr>\n",
       "      <th id=\"T_37164_level0_row8\" class=\"row_heading level0 row8\" >iso</th>\n",
       "      <td id=\"T_37164_row8_col0\" class=\"data row8 col0\" >23639.000000</td>\n",
       "      <td id=\"T_37164_row8_col1\" class=\"data row8 col1\" >536.433309</td>\n",
       "      <td id=\"T_37164_row8_col2\" class=\"data row8 col2\" >1442.933238</td>\n",
       "      <td id=\"T_37164_row8_col3\" class=\"data row8 col3\" >0.000000</td>\n",
       "      <td id=\"T_37164_row8_col4\" class=\"data row8 col4\" >100.000000</td>\n",
       "      <td id=\"T_37164_row8_col5\" class=\"data row8 col5\" >160.000000</td>\n",
       "      <td id=\"T_37164_row8_col6\" class=\"data row8 col6\" >400.000000</td>\n",
       "      <td id=\"T_37164_row8_col7\" class=\"data row8 col7\" >65535.000000</td>\n",
       "    </tr>\n",
       "    <tr>\n",
       "      <th id=\"T_37164_level0_row9\" class=\"row_heading level0 row9\" >latitude</th>\n",
       "      <td id=\"T_37164_row9_col0\" class=\"data row9 col0\" >8163.000000</td>\n",
       "      <td id=\"T_37164_row9_col1\" class=\"data row9 col1\" >33.271859</td>\n",
       "      <td id=\"T_37164_row9_col2\" class=\"data row9 col2\" >24.356592</td>\n",
       "      <td id=\"T_37164_row9_col3\" class=\"data row9 col3\" >-82.862752</td>\n",
       "      <td id=\"T_37164_row9_col4\" class=\"data row9 col4\" >28.488328</td>\n",
       "      <td id=\"T_37164_row9_col5\" class=\"data row9 col5\" >40.712784</td>\n",
       "      <td id=\"T_37164_row9_col6\" class=\"data row9 col6\" >48.060585</td>\n",
       "      <td id=\"T_37164_row9_col7\" class=\"data row9 col7\" >79.866667</td>\n",
       "    </tr>\n",
       "    <tr>\n",
       "      <th id=\"T_37164_level0_row10\" class=\"row_heading level0 row10\" >longitude</th>\n",
       "      <td id=\"T_37164_row10_col0\" class=\"data row10 col0\" >8160.000000</td>\n",
       "      <td id=\"T_37164_row10_col1\" class=\"data row10 col1\" >-7.489199</td>\n",
       "      <td id=\"T_37164_row10_col2\" class=\"data row10 col2\" >79.278419</td>\n",
       "      <td id=\"T_37164_row10_col3\" class=\"data row10 col3\" >-159.705965</td>\n",
       "      <td id=\"T_37164_row10_col4\" class=\"data row10 col4\" >-80.359245</td>\n",
       "      <td id=\"T_37164_row10_col5\" class=\"data row10 col5\" >4.477733</td>\n",
       "      <td id=\"T_37164_row10_col6\" class=\"data row10 col6\" >28.978359</td>\n",
       "      <td id=\"T_37164_row10_col7\" class=\"data row10 col7\" >178.085191</td>\n",
       "    </tr>\n",
       "  </tbody>\n",
       "</table>\n"
      ],
      "text/plain": [
       "<pandas.io.formats.style.Styler at 0x7f828dbe6350>"
      ]
     },
     "execution_count": 15,
     "metadata": {},
     "output_type": "execute_result"
    }
   ],
   "source": [
    "train.iloc[:, :-1].describe().T.sort_values(by='count', ascending = False)\\\n",
    "                     .style.background_gradient(cmap='GnBu')\\\n",
    "                     .bar(subset=[\"max\"], color='red')\\\n",
    "                     .bar(subset=[\"mean\",], color='green')"
   ]
  },
  {
   "cell_type": "code",
   "execution_count": 16,
   "metadata": {},
   "outputs": [
    {
     "data": {
      "text/plain": [
       "count    2.373400e+04\n",
       "mean     1.348299e+03\n",
       "std      2.158557e+04\n",
       "min      1.712329e-02\n",
       "25%      1.182402e+01\n",
       "50%      2.797738e+02\n",
       "75%      8.019734e+02\n",
       "max      1.779606e+06\n",
       "Name: avg_views/day, dtype: float64"
      ]
     },
     "execution_count": 16,
     "metadata": {},
     "output_type": "execute_result"
    }
   ],
   "source": [
    "train['avg_views/day'].describe()"
   ]
  },
  {
   "cell_type": "code",
   "execution_count": 17,
   "metadata": {},
   "outputs": [
    {
     "name": "stdout",
     "output_type": "stream",
     "text": [
      "<class 'pandas.core.frame.DataFrame'>\n",
      "Index: 23734 entries, ed821aabad928878a4b54d2ee3f698f5 to 35b8f30f868cf221c6f82775deadfd01\n",
      "Data columns (total 21 columns):\n",
      " #   Column          Non-Null Count  Dtype  \n",
      "---  ------          --------------  -----  \n",
      " 0   obs_day         23734 non-null  object \n",
      " 1   obs_hour        23734 non-null  int64  \n",
      " 2   obs_min         23734 non-null  int64  \n",
      " 3   obs_sec         23734 non-null  int64  \n",
      " 4   image_category  23734 non-null  object \n",
      " 5   width           23734 non-null  int64  \n",
      " 6   height          23734 non-null  int64  \n",
      " 7   aspect_ratio    23734 non-null  float64\n",
      " 8   description1    9787 non-null   object \n",
      " 9   description2    18131 non-null  object \n",
      " 10  camera_make     23663 non-null  object \n",
      " 11  camera_model    23650 non-null  object \n",
      " 12  iso             23639 non-null  float64\n",
      " 13  aperture_value  23722 non-null  float64\n",
      " 14  focal_length    23734 non-null  float64\n",
      " 15  exposure_time   23651 non-null  object \n",
      " 16  latitude        8163 non-null   float64\n",
      " 17  longitude       8160 non-null   float64\n",
      " 18  country         9387 non-null   object \n",
      " 19  city            7010 non-null   object \n",
      " 20  avg_views/day   23734 non-null  float64\n",
      "dtypes: float64(7), int64(5), object(9)\n",
      "memory usage: 4.0+ MB\n"
     ]
    }
   ],
   "source": [
    "train.info()"
   ]
  },
  {
   "cell_type": "code",
   "execution_count": 18,
   "metadata": {},
   "outputs": [
    {
     "name": "stdout",
     "output_type": "stream",
     "text": [
      "Number of missing values in the data  82111\n"
     ]
    }
   ],
   "source": [
    "print(\"Number of missing values in the data \",sum(train.isna().sum()))"
   ]
  },
  {
   "cell_type": "code",
   "execution_count": 20,
   "metadata": {},
   "outputs": [
    {
     "data": {
      "text/plain": [
       "['focal_length',\n",
       " 'aperture_value',\n",
       " 'width',\n",
       " 'iso',\n",
       " 'height',\n",
       " 'obs_hour',\n",
       " 'obs_sec',\n",
       " 'aspect_ratio',\n",
       " 'longitude',\n",
       " 'obs_min',\n",
       " 'latitude']"
      ]
     },
     "execution_count": 20,
     "metadata": {},
     "output_type": "execute_result"
    }
   ],
   "source": [
    "num_features = list(set(train.select_dtypes(include=np.number).columns.tolist()) - set(['avg_views/day']))\n",
    "num_features"
   ]
  },
  {
   "cell_type": "code",
   "execution_count": 21,
   "metadata": {},
   "outputs": [
    {
     "data": {
      "text/plain": [
       "['obs_day',\n",
       " 'image_category',\n",
       " 'description1',\n",
       " 'description2',\n",
       " 'camera_make',\n",
       " 'camera_model',\n",
       " 'exposure_time',\n",
       " 'country',\n",
       " 'city']"
      ]
     },
     "execution_count": 21,
     "metadata": {},
     "output_type": "execute_result"
    }
   ],
   "source": [
    "cat_features = train.select_dtypes(exclude=np.number).columns.tolist()\n",
    "cat_features"
   ]
  },
  {
   "cell_type": "code",
   "execution_count": 22,
   "metadata": {},
   "outputs": [
    {
     "data": {
      "image/png": "[encoded data removed]",
      "text/plain": [
       "<Figure size 1800x720 with 3 Axes>"
      ]
     },
     "metadata": {
      "needs_background": "light"
     },
     "output_type": "display_data"
    }
   ],
   "source": [
    "msno.bar(train);"
   ]
  },
  {
   "cell_type": "markdown",
   "metadata": {},
   "source": [
    "In summary, the data has the following characteristics:\n",
    "\n",
    "    Shape of the train data: 23734 rows and 21 columns.\n",
    "    Variable types: 9 categorical and 12 numeric.\n",
    "    Number of missing values in the data: 82111. \n",
    "    More specifically, the following features have missing values: description1, description 2, latitude, longitude, country, and city.\n",
    "    Scale: the describe table above shows that the columns have different scales."
   ]
  },
  {
   "cell_type": "code",
   "execution_count": 23,
   "metadata": {},
   "outputs": [
    {
     "data": {
      "text/plain": [
       "<AxesSubplot:>"
      ]
     },
     "execution_count": 23,
     "metadata": {},
     "output_type": "execute_result"
    },
    {
     "data": {
      "image/png": "[encoded data removed]",
      "text/plain": [
       "<Figure size 432x288 with 1 Axes>"
      ]
     },
     "metadata": {
      "needs_background": "light"
     },
     "output_type": "display_data"
    }
   ],
   "source": [
    "train['avg_views/day'].hist()"
   ]
  },
  {
   "cell_type": "markdown",
   "metadata": {},
   "source": [
    "Correlation of the numeric variables"
   ]
  },
  {
   "cell_type": "code",
   "execution_count": 24,
   "metadata": {},
   "outputs": [
    {
     "data": {
      "image/png": "[encoded data removed]",
      "text/plain": [
       "<Figure size 842.4x595.44 with 2 Axes>"
      ]
     },
     "metadata": {
      "needs_background": "light"
     },
     "output_type": "display_data"
    }
   ],
   "source": [
    "corr = train.corr()\n",
    "fig, ax = plt.subplots()\n",
    "fig.set_size_inches(11.7, 8.27)\n",
    "sns.heatmap(corr, vmin=0, vmax=1, linewidths=2, square=True, cmap='Reds', annot=True);"
   ]
  },
  {
   "cell_type": "markdown",
   "metadata": {},
   "source": [
    "Interesting notes: ratio and width show positive coorelation"
   ]
  },
  {
   "cell_type": "code",
   "execution_count": 25,
   "metadata": {},
   "outputs": [],
   "source": [
    "from sklearn.model_selection import train_test_split\n",
    "\n",
    "feature_cols = num_features\n",
    "X = train[feature_cols]\n",
    "\n",
    "y = train['avg_views/day']\n",
    "\n",
    "# Separate data intro training and validation \n",
    "X_train, X_valid, y_train, y_valid = train_test_split(X, y)"
   ]
  },
  {
   "cell_type": "code",
   "execution_count": 26,
   "metadata": {},
   "outputs": [
    {
     "name": "stderr",
     "output_type": "stream",
     "text": [
      "/home/thedossier/.local/lib/python3.10/site-packages/xgboost/compat.py:36: FutureWarning: pandas.Int64Index is deprecated and will be removed from pandas in a future version. Use pandas.Index with the appropriate dtype instead.\n",
      "  from pandas import MultiIndex, Int64Index\n",
      "/home/thedossier/.local/lib/python3.10/site-packages/xgboost/data.py:262: FutureWarning: pandas.Int64Index is deprecated and will be removed from pandas in a future version. Use pandas.Index with the appropriate dtype instead.\n",
      "  elif isinstance(data.columns, (pd.Int64Index, pd.RangeIndex)):\n"
     ]
    },
    {
     "data": {
      "text/plain": [
       "XGBRFRegressor(base_score=0.5, booster='gbtree', colsample_bylevel=1,\n",
       "               colsample_bytree=1, enable_categorical=False, gamma=0, gpu_id=-1,\n",
       "               importance_type=None, interaction_constraints='',\n",
       "               max_delta_step=0, max_depth=6, min_child_weight=1, missing=nan,\n",
       "               monotone_constraints='()', n_estimators=100, n_jobs=12,\n",
       "               num_parallel_tree=100, objective='reg:squarederror',\n",
       "               predictor='auto', random_state=0, reg_alpha=0,\n",
       "               scale_pos_weight=1, tree_method='exact', validate_parameters=1,\n",
       "               verbosity=None)"
      ]
     },
     "execution_count": 26,
     "metadata": {},
     "output_type": "execute_result"
    }
   ],
   "source": [
    "from xgboost import XGBRFRegressor\n",
    "\n",
    "xb = XGBRFRegressor()\n",
    "xb.fit(X_train, y_train)"
   ]
  },
  {
   "cell_type": "code",
   "execution_count": 27,
   "metadata": {},
   "outputs": [
    {
     "name": "stdout",
     "output_type": "stream",
     "text": [
      "RMSE:  8055.843614097199\n"
     ]
    }
   ],
   "source": [
    "from sklearn.metrics import mean_squared_error\n",
    "\n",
    "predictions = xb.predict(X_valid)\n",
    "rms = mean_squared_error(predictions, y_valid, squared=False)\n",
    "print(\"RMSE: \", rms)"
   ]
  },
  {
   "cell_type": "code",
   "execution_count": 28,
   "metadata": {},
   "outputs": [
    {
     "name": "stderr",
     "output_type": "stream",
     "text": [
      "/home/thedossier/.local/lib/python3.10/site-packages/xgboost/data.py:262: FutureWarning: pandas.Int64Index is deprecated and will be removed from pandas in a future version. Use pandas.Index with the appropriate dtype instead.\n",
      "  elif isinstance(data.columns, (pd.Int64Index, pd.RangeIndex)):\n"
     ]
    }
   ],
   "source": [
    "# Create submission\n",
    "X_test = test.copy()\n",
    "\n",
    "test_predictions = xb.predict(X_test[feature_cols])"
   ]
  },
  {
   "cell_type": "code",
   "execution_count": 29,
   "metadata": {},
   "outputs": [],
   "source": [
    "submission = pd.DataFrame({\n",
    "    'image_id': X_test.index,\n",
    "    'avg_views/day': test_predictions\n",
    "})"
   ]
  },
  {
   "cell_type": "code",
   "execution_count": null,
   "metadata": {},
   "outputs": [],
   "source": [
    "submission.to_csv('submission.csv', index=False)"
   ]
  }
 ],
 "metadata": {
  "language_info": {
   "name": "python"
  },
  "orig_nbformat": 4
 },
 "nbformat": 4,
 "nbformat_minor": 2
}
